{
  "nbformat": 4,
  "nbformat_minor": 0,
  "metadata": {
    "colab": {
      "name": "Autoencoders_mnist.ipynb",
      "provenance": [],
      "authorship_tag": "ABX9TyO0TqqdnFATU10BiisXs1AW",
      "include_colab_link": true
    },
    "kernelspec": {
      "name": "python3",
      "display_name": "Python 3"
    },
    "language_info": {
      "name": "python"
    }
  },
  "cells": [
    {
      "cell_type": "markdown",
      "metadata": {
        "id": "view-in-github",
        "colab_type": "text"
      },
      "source": [
        "<a href=\"https://colab.research.google.com/github/pranjul6386/Autoencoders/blob/main/Autoencoders_mnist.ipynb\" target=\"_parent\"><img src=\"https://colab.research.google.com/assets/colab-badge.svg\" alt=\"Open In Colab\"/></a>"
      ]
    },
    {
      "cell_type": "code",
      "metadata": {
        "id": "TxOQHX1nagcm"
      },
      "source": [
        "import PIL\n",
        "import cv2\n",
        "import matplotlib.pyplot as plt\n",
        "import numpy as np\n",
        "import tensorflow as tf\n",
        "from tensorflow.keras import layers,datasets,losses,Model\n",
        "from random import randint"
      ],
      "execution_count": 1,
      "outputs": []
    },
    {
      "cell_type": "code",
      "metadata": {
        "colab": {
          "base_uri": "https://localhost:8080/"
        },
        "id": "rjP3VauabJz2",
        "outputId": "8c9a2f97-dec7-4704-d5f8-c501f0850500"
      },
      "source": [
        "(x_train,y_train), (x_test,y_test)=tf.keras.datasets.mnist.load_data()"
      ],
      "execution_count": 2,
      "outputs": [
        {
          "output_type": "stream",
          "text": [
            "Downloading data from https://storage.googleapis.com/tensorflow/tf-keras-datasets/mnist.npz\n",
            "11493376/11490434 [==============================] - 0s 0us/step\n"
          ],
          "name": "stdout"
        }
      ]
    },
    {
      "cell_type": "code",
      "metadata": {
        "id": "pM4VjHERbV8O"
      },
      "source": [
        "x_train"
      ],
      "execution_count": null,
      "outputs": []
    },
    {
      "cell_type": "code",
      "metadata": {
        "colab": {
          "base_uri": "https://localhost:8080/"
        },
        "id": "lGrks3L2dmPC",
        "outputId": "2541c484-bd0d-4b5b-b882-260222864877"
      },
      "source": [
        "x_train.shape"
      ],
      "execution_count": 4,
      "outputs": [
        {
          "output_type": "execute_result",
          "data": {
            "text/plain": [
              "(60000, 28, 28)"
            ]
          },
          "metadata": {
            "tags": []
          },
          "execution_count": 4
        }
      ]
    },
    {
      "cell_type": "code",
      "metadata": {
        "colab": {
          "base_uri": "https://localhost:8080/"
        },
        "id": "CQGMooVhdoT0",
        "outputId": "dcbede23-65c8-418f-a8f7-285867a30159"
      },
      "source": [
        "y_train.shape"
      ],
      "execution_count": 5,
      "outputs": [
        {
          "output_type": "execute_result",
          "data": {
            "text/plain": [
              "(60000,)"
            ]
          },
          "metadata": {
            "tags": []
          },
          "execution_count": 5
        }
      ]
    },
    {
      "cell_type": "code",
      "metadata": {
        "id": "eTne180Zdq7Y"
      },
      "source": [
        "x_test"
      ],
      "execution_count": null,
      "outputs": []
    },
    {
      "cell_type": "code",
      "metadata": {
        "colab": {
          "base_uri": "https://localhost:8080/"
        },
        "id": "oKmPybd0duTd",
        "outputId": "eeb7136f-c2ad-4420-fb33-1e07bc36b90c"
      },
      "source": [
        " x_train.shape[1:]"
      ],
      "execution_count": 7,
      "outputs": [
        {
          "output_type": "execute_result",
          "data": {
            "text/plain": [
              "(28, 28)"
            ]
          },
          "metadata": {
            "tags": []
          },
          "execution_count": 7
        }
      ]
    },
    {
      "cell_type": "code",
      "metadata": {
        "colab": {
          "base_uri": "https://localhost:8080/"
        },
        "id": "zpYqCFXwSFNy",
        "outputId": "58e410dc-d49d-4df3-e920-6d91c0f57a7e"
      },
      "source": [
        "hidden_units1=100\n",
        "hidden_units2=40\n",
        "input_layer=layers.Input(shape=( x_train.shape[1:]))\n",
        "flattened=layers.Flatten()(input_layer)\n",
        "hidden=layers.Dense(hidden_units1,activation=\"relu\")(flattened)\n",
        "hiden2=layers.Dense(hidden_units2,activation=\"relu\")(hidden)\n",
        "encoder = Model(inputs = input_layer, outputs = hiden2, name = 'encoder')\n",
        "encoder.summary()"
      ],
      "execution_count": 10,
      "outputs": [
        {
          "output_type": "stream",
          "text": [
            "Model: \"encoder\"\n",
            "_________________________________________________________________\n",
            "Layer (type)                 Output Shape              Param #   \n",
            "=================================================================\n",
            "input_3 (InputLayer)         [(None, 28, 28)]          0         \n",
            "_________________________________________________________________\n",
            "flatten_2 (Flatten)          (None, 784)               0         \n",
            "_________________________________________________________________\n",
            "dense_4 (Dense)              (None, 100)               78500     \n",
            "_________________________________________________________________\n",
            "dense_5 (Dense)              (None, 40)                4040      \n",
            "=================================================================\n",
            "Total params: 82,540\n",
            "Trainable params: 82,540\n",
            "Non-trainable params: 0\n",
            "_________________________________________________________________\n"
          ],
          "name": "stdout"
        }
      ]
    },
    {
      "cell_type": "code",
      "metadata": {
        "colab": {
          "base_uri": "https://localhost:8080/"
        },
        "id": "saCV6jmgUAZ7",
        "outputId": "812475e5-4346-4c91-cab2-1c8186571fc0"
      },
      "source": [
        "encoder.layers[1].output_shape"
      ],
      "execution_count": 14,
      "outputs": [
        {
          "output_type": "execute_result",
          "data": {
            "text/plain": [
              "(None, 784)"
            ]
          },
          "metadata": {
            "tags": []
          },
          "execution_count": 14
        }
      ]
    },
    {
      "cell_type": "code",
      "metadata": {
        "colab": {
          "base_uri": "https://localhost:8080/"
        },
        "id": "HCEhSRilUYc3",
        "outputId": "d6879132-c5e7-48e5-e969-a86350065f86"
      },
      "source": [
        "input_layer_decoder = layers.Input(shape = encoder.output.shape)\n",
        "upsampled = layers.Dense(hidden_units1, activation = 'relu')(input_layer_decoder)\n",
        "upsampled = layers.Dense(encoder.layers[1].output_shape[-1], activation = 'relu')(upsampled)\n",
        "constructed = layers.Reshape(x_train.shape[1:])(upsampled)\n",
        "decoder = Model(inputs = input_layer_decoder, outputs = constructed, name= 'decoder')\n",
        "decoder.summary()"
      ],
      "execution_count": 15,
      "outputs": [
        {
          "output_type": "stream",
          "text": [
            "Model: \"decoder\"\n",
            "_________________________________________________________________\n",
            "Layer (type)                 Output Shape              Param #   \n",
            "=================================================================\n",
            "input_4 (InputLayer)         [(None, None, 40)]        0         \n",
            "_________________________________________________________________\n",
            "dense_6 (Dense)              (None, None, 100)         4100      \n",
            "_________________________________________________________________\n",
            "dense_7 (Dense)              (None, None, 784)         79184     \n",
            "_________________________________________________________________\n",
            "reshape (Reshape)            (None, 28, 28)            0         \n",
            "=================================================================\n",
            "Total params: 83,284\n",
            "Trainable params: 83,284\n",
            "Non-trainable params: 0\n",
            "_________________________________________________________________\n"
          ],
          "name": "stdout"
        }
      ]
    },
    {
      "cell_type": "code",
      "metadata": {
        "colab": {
          "base_uri": "https://localhost:8080/"
        },
        "id": "ii5Emf4EVGTK",
        "outputId": "3f84de10-3fca-4b33-8805-2fce9117c822"
      },
      "source": [
        "print(decoder.output)\n",
        "print(encoder.input)"
      ],
      "execution_count": 19,
      "outputs": [
        {
          "output_type": "stream",
          "text": [
            "KerasTensor(type_spec=TensorSpec(shape=(None, 28, 28), dtype=tf.float32, name=None), name='reshape/Reshape:0', description=\"created by layer 'reshape'\")\n",
            "KerasTensor(type_spec=TensorSpec(shape=(None, 28, 28), dtype=tf.float32, name='input_3'), name='input_3', description=\"created by layer 'input_3'\")\n"
          ],
          "name": "stdout"
        }
      ]
    },
    {
      "cell_type": "code",
      "metadata": {
        "colab": {
          "base_uri": "https://localhost:8080/"
        },
        "id": "N1yiWqmLVNJS",
        "outputId": "74cf2fee-7994-402f-bcde-e059f29009ff"
      },
      "source": [
        " decoder(encoder.output)"
      ],
      "execution_count": 17,
      "outputs": [
        {
          "output_type": "stream",
          "text": [
            "WARNING:tensorflow:Model was constructed with shape (None, None, 40) for input KerasTensor(type_spec=TensorSpec(shape=(None, None, 40), dtype=tf.float32, name='input_4'), name='input_4', description=\"created by layer 'input_4'\"), but it was called on an input with incompatible shape (None, 40).\n"
          ],
          "name": "stdout"
        },
        {
          "output_type": "execute_result",
          "data": {
            "text/plain": [
              "<KerasTensor: shape=(None, 28, 28) dtype=float32 (created by layer 'decoder')>"
            ]
          },
          "metadata": {
            "tags": []
          },
          "execution_count": 17
        }
      ]
    },
    {
      "cell_type": "code",
      "metadata": {
        "colab": {
          "base_uri": "https://localhost:8080/"
        },
        "id": "BYdHEdwfU9vJ",
        "outputId": "d8a8665f-c6f9-4d60-b18c-363c596bed1e"
      },
      "source": [
        "autoencoder = Model(inputs = encoder.input, outputs = decoder(encoder.output))\n",
        "autoencoder.summary()"
      ],
      "execution_count": 20,
      "outputs": [
        {
          "output_type": "stream",
          "text": [
            "WARNING:tensorflow:Model was constructed with shape (None, None, 40) for input KerasTensor(type_spec=TensorSpec(shape=(None, None, 40), dtype=tf.float32, name='input_4'), name='input_4', description=\"created by layer 'input_4'\"), but it was called on an input with incompatible shape (None, 40).\n",
            "Model: \"model\"\n",
            "_________________________________________________________________\n",
            "Layer (type)                 Output Shape              Param #   \n",
            "=================================================================\n",
            "input_3 (InputLayer)         [(None, 28, 28)]          0         \n",
            "_________________________________________________________________\n",
            "flatten_2 (Flatten)          (None, 784)               0         \n",
            "_________________________________________________________________\n",
            "dense_4 (Dense)              (None, 100)               78500     \n",
            "_________________________________________________________________\n",
            "dense_5 (Dense)              (None, 40)                4040      \n",
            "_________________________________________________________________\n",
            "decoder (Functional)         (None, 28, 28)            83284     \n",
            "=================================================================\n",
            "Total params: 165,824\n",
            "Trainable params: 165,824\n",
            "Non-trainable params: 0\n",
            "_________________________________________________________________\n"
          ],
          "name": "stdout"
        }
      ]
    },
    {
      "cell_type": "code",
      "metadata": {
        "colab": {
          "base_uri": "https://localhost:8080/"
        },
        "id": "qnKK5h8yVhzH",
        "outputId": "0a77a5af-bf64-4b55-a950-e1462a0c0068"
      },
      "source": [
        "autoencoder.compile(optimizer='adam', loss=losses.MeanSquaredError())\n",
        "history = autoencoder.fit(x_train, x_train, epochs=50, batch_size=64, validation_data = (x_test, x_test))"
      ],
      "execution_count": 21,
      "outputs": [
        {
          "output_type": "stream",
          "text": [
            "Epoch 1/50\n",
            "WARNING:tensorflow:Model was constructed with shape (None, None, 40) for input KerasTensor(type_spec=TensorSpec(shape=(None, None, 40), dtype=tf.float32, name='input_4'), name='input_4', description=\"created by layer 'input_4'\"), but it was called on an input with incompatible shape (None, 40).\n",
            "WARNING:tensorflow:Model was constructed with shape (None, None, 40) for input KerasTensor(type_spec=TensorSpec(shape=(None, None, 40), dtype=tf.float32, name='input_4'), name='input_4', description=\"created by layer 'input_4'\"), but it was called on an input with incompatible shape (None, 40).\n",
            "936/938 [============================>.] - ETA: 0s - loss: 1826.0878WARNING:tensorflow:Model was constructed with shape (None, None, 40) for input KerasTensor(type_spec=TensorSpec(shape=(None, None, 40), dtype=tf.float32, name='input_4'), name='input_4', description=\"created by layer 'input_4'\"), but it was called on an input with incompatible shape (None, 40).\n",
            "938/938 [==============================] - 5s 5ms/step - loss: 1825.2341 - val_loss: 1367.7946\n",
            "Epoch 2/50\n",
            "938/938 [==============================] - 4s 5ms/step - loss: 1315.3884 - val_loss: 1273.0529\n",
            "Epoch 3/50\n",
            "938/938 [==============================] - 4s 5ms/step - loss: 1267.4186 - val_loss: 1246.0161\n",
            "Epoch 4/50\n",
            "938/938 [==============================] - 4s 5ms/step - loss: 1244.0667 - val_loss: 1231.1859\n",
            "Epoch 5/50\n",
            "938/938 [==============================] - 4s 5ms/step - loss: 1227.6465 - val_loss: 1215.4744\n",
            "Epoch 6/50\n",
            "938/938 [==============================] - 4s 5ms/step - loss: 1216.0063 - val_loss: 1205.7865\n",
            "Epoch 7/50\n",
            "938/938 [==============================] - 4s 5ms/step - loss: 1209.6846 - val_loss: 1201.4694\n",
            "Epoch 8/50\n",
            "938/938 [==============================] - 4s 5ms/step - loss: 1201.7115 - val_loss: 1195.9147\n",
            "Epoch 9/50\n",
            "938/938 [==============================] - 4s 5ms/step - loss: 1195.1270 - val_loss: 1186.6371\n",
            "Epoch 10/50\n",
            "938/938 [==============================] - 4s 5ms/step - loss: 1186.3242 - val_loss: 1170.1387\n",
            "Epoch 11/50\n",
            "938/938 [==============================] - 4s 5ms/step - loss: 1179.4722 - val_loss: 1167.4021\n",
            "Epoch 12/50\n",
            "938/938 [==============================] - 4s 5ms/step - loss: 1173.5579 - val_loss: 1160.2870\n",
            "Epoch 13/50\n",
            "938/938 [==============================] - 4s 4ms/step - loss: 1168.0098 - val_loss: 1158.8259\n",
            "Epoch 14/50\n",
            "938/938 [==============================] - 4s 5ms/step - loss: 1163.2219 - val_loss: 1149.0883\n",
            "Epoch 15/50\n",
            "938/938 [==============================] - 4s 4ms/step - loss: 1158.5533 - val_loss: 1150.6123\n",
            "Epoch 16/50\n",
            "938/938 [==============================] - 4s 5ms/step - loss: 1154.6577 - val_loss: 1151.7893\n",
            "Epoch 17/50\n",
            "938/938 [==============================] - 4s 5ms/step - loss: 1145.3231 - val_loss: 1137.3093\n",
            "Epoch 18/50\n",
            "938/938 [==============================] - 4s 5ms/step - loss: 1140.8744 - val_loss: 1138.1466\n",
            "Epoch 19/50\n",
            "938/938 [==============================] - 4s 5ms/step - loss: 1136.8488 - val_loss: 1128.3761\n",
            "Epoch 20/50\n",
            "938/938 [==============================] - 4s 4ms/step - loss: 1132.9005 - val_loss: 1130.4312\n",
            "Epoch 21/50\n",
            "938/938 [==============================] - 4s 5ms/step - loss: 1129.0232 - val_loss: 1123.2513\n",
            "Epoch 22/50\n",
            "938/938 [==============================] - 4s 5ms/step - loss: 1126.5518 - val_loss: 1123.8708\n",
            "Epoch 23/50\n",
            "938/938 [==============================] - 4s 5ms/step - loss: 1123.3922 - val_loss: 1116.8940\n",
            "Epoch 24/50\n",
            "938/938 [==============================] - 4s 4ms/step - loss: 1120.6534 - val_loss: 1117.1975\n",
            "Epoch 25/50\n",
            "938/938 [==============================] - 4s 5ms/step - loss: 1117.6696 - val_loss: 1104.6770\n",
            "Epoch 26/50\n",
            "938/938 [==============================] - 4s 5ms/step - loss: 1113.0045 - val_loss: 1112.1226\n",
            "Epoch 27/50\n",
            "938/938 [==============================] - 4s 5ms/step - loss: 1109.9374 - val_loss: 1108.9349\n",
            "Epoch 28/50\n",
            "938/938 [==============================] - 4s 5ms/step - loss: 1091.1328 - val_loss: 1067.3995\n",
            "Epoch 29/50\n",
            "938/938 [==============================] - 4s 5ms/step - loss: 1065.8761 - val_loss: 1072.5966\n",
            "Epoch 30/50\n",
            "938/938 [==============================] - 4s 5ms/step - loss: 1052.7032 - val_loss: 1031.9755\n",
            "Epoch 31/50\n",
            "938/938 [==============================] - 4s 5ms/step - loss: 1033.1409 - val_loss: 1032.3467\n",
            "Epoch 32/50\n",
            "938/938 [==============================] - 4s 5ms/step - loss: 1030.5399 - val_loss: 1031.3271\n",
            "Epoch 33/50\n",
            "938/938 [==============================] - 4s 5ms/step - loss: 1028.7332 - val_loss: 1020.2036\n",
            "Epoch 34/50\n",
            "938/938 [==============================] - 4s 5ms/step - loss: 1026.8896 - val_loss: 1026.1570\n",
            "Epoch 35/50\n",
            "938/938 [==============================] - 4s 5ms/step - loss: 1024.9707 - val_loss: 1024.4471\n",
            "Epoch 36/50\n",
            "938/938 [==============================] - 4s 5ms/step - loss: 1023.9059 - val_loss: 1020.2157\n",
            "Epoch 37/50\n",
            "938/938 [==============================] - 4s 5ms/step - loss: 1022.6731 - val_loss: 1015.7448\n",
            "Epoch 38/50\n",
            "938/938 [==============================] - 4s 5ms/step - loss: 1021.0440 - val_loss: 1014.9867\n",
            "Epoch 39/50\n",
            "938/938 [==============================] - 4s 5ms/step - loss: 1020.1324 - val_loss: 1015.2734\n",
            "Epoch 40/50\n",
            "938/938 [==============================] - 4s 5ms/step - loss: 1018.5896 - val_loss: 1018.6118\n",
            "Epoch 41/50\n",
            "938/938 [==============================] - 4s 5ms/step - loss: 1018.2344 - val_loss: 1013.7417\n",
            "Epoch 42/50\n",
            "938/938 [==============================] - 4s 5ms/step - loss: 1016.2117 - val_loss: 1008.5652\n",
            "Epoch 43/50\n",
            "938/938 [==============================] - 4s 5ms/step - loss: 1015.9415 - val_loss: 1012.8784\n",
            "Epoch 44/50\n",
            "938/938 [==============================] - 4s 5ms/step - loss: 1014.1921 - val_loss: 1009.9610\n",
            "Epoch 45/50\n",
            "938/938 [==============================] - 4s 5ms/step - loss: 1014.0398 - val_loss: 1015.8639\n",
            "Epoch 46/50\n",
            "938/938 [==============================] - 4s 5ms/step - loss: 1012.9679 - val_loss: 1011.2643\n",
            "Epoch 47/50\n",
            "938/938 [==============================] - 4s 5ms/step - loss: 1011.8455 - val_loss: 1008.8982\n",
            "Epoch 48/50\n",
            "938/938 [==============================] - 4s 5ms/step - loss: 1011.5151 - val_loss: 1013.2000\n",
            "Epoch 49/50\n",
            "938/938 [==============================] - 4s 5ms/step - loss: 1010.1807 - val_loss: 1013.3930\n",
            "Epoch 50/50\n",
            "938/938 [==============================] - 4s 5ms/step - loss: 1008.8350 - val_loss: 1005.1004\n"
          ],
          "name": "stdout"
        }
      ]
    },
    {
      "cell_type": "code",
      "metadata": {
        "colab": {
          "base_uri": "https://localhost:8080/",
          "height": 910
        },
        "id": "bKz5IhG1WHXE",
        "outputId": "0349106b-3a13-4932-e42f-80ff69fbcdbb"
      },
      "source": [
        "fig, axs = plt.subplots(figsize=(15,15))\n",
        "axs.plot(history.history['loss'])\n",
        "axs.plot(history.history['val_loss'])\n",
        "axs.title.set_text('Training Loss vs Validation Loss')\n",
        "axs.set_xlabel('Epochs')\n",
        "axs.set_ylabel('Loss')\n",
        "axs.legend(['Train','Val'])"
      ],
      "execution_count": 22,
      "outputs": [
        {
          "output_type": "execute_result",
          "data": {
            "text/plain": [
              "<matplotlib.legend.Legend at 0x7f9201e29e50>"
            ]
          },
          "metadata": {
            "tags": []
          },
          "execution_count": 22
        },
        {
          "output_type": "display_data",
          "data": {
            "image/png": "[encoded data removed]",
            "text/plain": [
              "<Figure size 1080x1080 with 1 Axes>"
            ]
          },
          "metadata": {
            "tags": [],
            "needs_background": "light"
          }
        }
      ]
    },
    {
      "cell_type": "code",
      "metadata": {
        "colab": {
          "base_uri": "https://localhost:8080/",
          "height": 863
        },
        "id": "qL-it0ZOWVEG",
        "outputId": "a5067698-ea60-4d44-c38f-324564cbb0fa"
      },
      "source": [
        "fig, axs = plt.subplots(3,2,figsize=(10,15))\n",
        "for i in range(3):\n",
        "  sample1 = x_train[randint(0,x_train.shape[0])]\n",
        "  axs[i][0].imshow(sample1, cmap = 'gray')\n",
        "  axs[i][1].imshow(autoencoder(np.expand_dims(sample1,0))[0], cmap = 'gray')"
      ],
      "execution_count": 23,
      "outputs": [
        {
          "output_type": "display_data",
          "data": {
            "image/png": "[encoded data removed]",
            "text/plain": [
              "<Figure size 720x1080 with 6 Axes>"
            ]
          },
          "metadata": {
            "tags": [],
            "needs_background": "light"
          }
        }
      ]
    }
  ]
}